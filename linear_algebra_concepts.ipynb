{
 "cells": [
  {
   "cell_type": "code",
   "execution_count": 1,
   "metadata": {
    "collapsed": true,
    "ExecuteTime": {
     "start_time": "2023-09-18T13:37:09.264086Z",
     "end_time": "2023-09-18T13:37:09.702314Z"
    }
   },
   "outputs": [],
   "source": [
    "import numpy as np"
   ]
  },
  {
   "cell_type": "markdown",
   "source": [
    "## 1. vector-vector multiplication"
   ],
   "metadata": {
    "collapsed": false
   }
  },
  {
   "cell_type": "code",
   "execution_count": 2,
   "outputs": [],
   "source": [
    "u = np.array([2, 4, 5, 6])"
   ],
   "metadata": {
    "collapsed": false,
    "ExecuteTime": {
     "start_time": "2023-09-18T13:40:29.674969Z",
     "end_time": "2023-09-18T13:40:29.679533Z"
    }
   }
  },
  {
   "cell_type": "code",
   "execution_count": 3,
   "outputs": [],
   "source": [
    "v = np.array([1, 0, 0, 2])"
   ],
   "metadata": {
    "collapsed": false,
    "ExecuteTime": {
     "start_time": "2023-09-18T13:40:29.840942Z",
     "end_time": "2023-09-18T13:40:29.847424Z"
    }
   }
  },
  {
   "cell_type": "code",
   "execution_count": 8,
   "outputs": [],
   "source": [
    "def vector_vector_multiplication(u, v):\n",
    "    assert u.shape[0] == v.shape[0]\n",
    "\n",
    "    n = u.shape[0]\n",
    "\n",
    "    result = 0.0\n",
    "\n",
    "    for i in range(n):\n",
    "        print('u: ', u[i], '*', 'v: ', v[i], '=', u[i] * v[i])\n",
    "        result = result + u[i] * v[i]\n",
    "        print('result: ', result)\n",
    "\n",
    "    return result"
   ],
   "metadata": {
    "collapsed": false,
    "ExecuteTime": {
     "start_time": "2023-09-18T13:43:18.144346Z",
     "end_time": "2023-09-18T13:43:18.147002Z"
    }
   }
  },
  {
   "cell_type": "code",
   "execution_count": 9,
   "outputs": [
    {
     "name": "stdout",
     "output_type": "stream",
     "text": [
      "u:  2 * v:  1 = 2\n",
      "result:  2.0\n",
      "u:  4 * v:  0 = 0\n",
      "result:  2.0\n",
      "u:  5 * v:  0 = 0\n",
      "result:  2.0\n",
      "u:  6 * v:  2 = 12\n",
      "result:  14.0\n"
     ]
    },
    {
     "data": {
      "text/plain": "14.0"
     },
     "execution_count": 9,
     "metadata": {},
     "output_type": "execute_result"
    }
   ],
   "source": [
    "vector_vector_multiplication(u, v)"
   ],
   "metadata": {
    "collapsed": false,
    "ExecuteTime": {
     "start_time": "2023-09-18T13:43:18.517406Z",
     "end_time": "2023-09-18T13:43:18.523067Z"
    }
   }
  },
  {
   "cell_type": "code",
   "execution_count": 12,
   "outputs": [
    {
     "data": {
      "text/plain": "14"
     },
     "execution_count": 12,
     "metadata": {},
     "output_type": "execute_result"
    }
   ],
   "source": [
    "u.dot(v)"
   ],
   "metadata": {
    "collapsed": false,
    "ExecuteTime": {
     "start_time": "2023-09-18T13:43:47.845568Z",
     "end_time": "2023-09-18T13:43:47.853184Z"
    }
   }
  },
  {
   "cell_type": "markdown",
   "source": [
    "## 2. matrix-vector multiplication"
   ],
   "metadata": {
    "collapsed": false
   }
  },
  {
   "cell_type": "code",
   "execution_count": 17,
   "outputs": [
    {
     "name": "stdout",
     "output_type": "stream",
     "text": [
      "u:  2 * v:  1 = 2\n",
      "result:  2.0\n",
      "u:  4 * v:  0 = 0\n",
      "result:  2.0\n",
      "u:  5 * v:  0 = 0\n",
      "result:  2.0\n",
      "u:  6 * v:  2 = 12\n",
      "result:  14.0\n",
      "vector_result:  14.0\n",
      "u:  1 * v:  1 = 1\n",
      "result:  1.0\n",
      "u:  2 * v:  0 = 0\n",
      "result:  1.0\n",
      "u:  1 * v:  0 = 0\n",
      "result:  1.0\n",
      "u:  2 * v:  2 = 4\n",
      "result:  5.0\n",
      "vector_result:  5.0\n",
      "u:  3 * v:  1 = 3\n",
      "result:  3.0\n",
      "u:  1 * v:  0 = 0\n",
      "result:  3.0\n",
      "u:  2 * v:  0 = 0\n",
      "result:  3.0\n",
      "u:  1 * v:  2 = 2\n",
      "result:  5.0\n",
      "vector_result:  5.0\n"
     ]
    },
    {
     "data": {
      "text/plain": "array([14.,  5.,  5.])"
     },
     "execution_count": 17,
     "metadata": {},
     "output_type": "execute_result"
    }
   ],
   "source": [
    "U = np.array([\n",
    "    [2, 4, 5, 6],\n",
    "    [1, 2, 1, 2],\n",
    "    [3, 1, 2, 1],\n",
    "])\n",
    "\n",
    "v = np.array([1, 0, 0, 2])\n",
    "\n",
    "def matrix_vector_multiplication(U, v):\n",
    "    assert U.shape[1] == v.shape[0]\n",
    "\n",
    "    num_rows = U.shape[0]\n",
    "\n",
    "    result = np.zeros(num_rows)\n",
    "\n",
    "    for i in range(num_rows):\n",
    "        result[i] = vector_vector_multiplication(U[i], v)\n",
    "        print('vector_result: ', result[i])\n",
    "\n",
    "    return result\n",
    "\n",
    "matrix_vector_multiplication(U, v)"
   ],
   "metadata": {
    "collapsed": false,
    "ExecuteTime": {
     "start_time": "2023-09-18T14:21:02.317194Z",
     "end_time": "2023-09-18T14:21:02.324848Z"
    }
   }
  },
  {
   "cell_type": "code",
   "execution_count": 18,
   "outputs": [
    {
     "data": {
      "text/plain": "array([14,  5,  5])"
     },
     "execution_count": 18,
     "metadata": {},
     "output_type": "execute_result"
    }
   ],
   "source": [
    "U.dot(v)"
   ],
   "metadata": {
    "collapsed": false,
    "ExecuteTime": {
     "start_time": "2023-09-18T14:21:16.091154Z",
     "end_time": "2023-09-18T14:21:16.099554Z"
    }
   }
  },
  {
   "cell_type": "markdown",
   "source": [
    "## 3. matrix-matrix multiplication"
   ],
   "metadata": {
    "collapsed": false
   }
  },
  {
   "cell_type": "code",
   "execution_count": 19,
   "outputs": [
    {
     "name": "stdout",
     "output_type": "stream",
     "text": [
      "u:  2 * v:  1.0 = 2.0\n",
      "result:  2.0\n",
      "u:  4 * v:  0.0 = 0.0\n",
      "result:  2.0\n",
      "u:  5 * v:  0.0 = 0.0\n",
      "result:  2.0\n",
      "u:  6 * v:  2.0 = 12.0\n",
      "result:  14.0\n",
      "vector_result:  14.0\n",
      "u:  1 * v:  1.0 = 1.0\n",
      "result:  1.0\n",
      "u:  2 * v:  0.0 = 0.0\n",
      "result:  1.0\n",
      "u:  1 * v:  0.0 = 0.0\n",
      "result:  1.0\n",
      "u:  2 * v:  2.0 = 4.0\n",
      "result:  5.0\n",
      "vector_result:  5.0\n",
      "u:  3 * v:  1.0 = 3.0\n",
      "result:  3.0\n",
      "u:  1 * v:  0.0 = 0.0\n",
      "result:  3.0\n",
      "u:  2 * v:  0.0 = 0.0\n",
      "result:  3.0\n",
      "u:  1 * v:  2.0 = 2.0\n",
      "result:  5.0\n",
      "vector_result:  5.0\n",
      "u:  2 * v:  1.0 = 2.0\n",
      "result:  2.0\n",
      "u:  4 * v:  0.5 = 2.0\n",
      "result:  4.0\n",
      "u:  5 * v:  2.0 = 10.0\n",
      "result:  14.0\n",
      "u:  6 * v:  1.0 = 6.0\n",
      "result:  20.0\n",
      "vector_result:  20.0\n",
      "u:  1 * v:  1.0 = 1.0\n",
      "result:  1.0\n",
      "u:  2 * v:  0.5 = 1.0\n",
      "result:  2.0\n",
      "u:  1 * v:  2.0 = 2.0\n",
      "result:  4.0\n",
      "u:  2 * v:  1.0 = 2.0\n",
      "result:  6.0\n",
      "vector_result:  6.0\n",
      "u:  3 * v:  1.0 = 3.0\n",
      "result:  3.0\n",
      "u:  1 * v:  0.5 = 0.5\n",
      "result:  3.5\n",
      "u:  2 * v:  2.0 = 4.0\n",
      "result:  7.5\n",
      "u:  1 * v:  1.0 = 1.0\n",
      "result:  8.5\n",
      "vector_result:  8.5\n",
      "u:  2 * v:  2.0 = 4.0\n",
      "result:  4.0\n",
      "u:  4 * v:  1.0 = 4.0\n",
      "result:  8.0\n",
      "u:  5 * v:  1.0 = 5.0\n",
      "result:  13.0\n",
      "u:  6 * v:  0.0 = 0.0\n",
      "result:  13.0\n",
      "vector_result:  13.0\n",
      "u:  1 * v:  2.0 = 2.0\n",
      "result:  2.0\n",
      "u:  2 * v:  1.0 = 2.0\n",
      "result:  4.0\n",
      "u:  1 * v:  1.0 = 1.0\n",
      "result:  5.0\n",
      "u:  2 * v:  0.0 = 0.0\n",
      "result:  5.0\n",
      "vector_result:  5.0\n",
      "u:  3 * v:  2.0 = 6.0\n",
      "result:  6.0\n",
      "u:  1 * v:  1.0 = 1.0\n",
      "result:  7.0\n",
      "u:  2 * v:  1.0 = 2.0\n",
      "result:  9.0\n",
      "u:  1 * v:  0.0 = 0.0\n",
      "result:  9.0\n",
      "vector_result:  9.0\n"
     ]
    },
    {
     "data": {
      "text/plain": "array([[14. , 20. , 13. ],\n       [ 5. ,  6. ,  5. ],\n       [ 5. ,  8.5,  9. ]])"
     },
     "execution_count": 19,
     "metadata": {},
     "output_type": "execute_result"
    }
   ],
   "source": [
    "U = np.array([\n",
    "    [2, 4, 5, 6],\n",
    "    [1, 2, 1, 2],\n",
    "    [3, 1, 2, 1],\n",
    "])\n",
    "\n",
    "V = np.array([\n",
    "    [1, 1, 2],\n",
    "    [0, 0.5, 1],\n",
    "    [0, 2, 1],\n",
    "    [2, 1, 0],\n",
    "])\n",
    "\n",
    "def matrix_matrix_multiplication(U, V):\n",
    "    assert U.shape[1] == V.shape[0]\n",
    "\n",
    "    num_rows = U.shape[0]\n",
    "    num_cols = V.shape[1]\n",
    "\n",
    "    result = np.zeros((num_rows, num_cols))\n",
    "\n",
    "    for i in range(num_cols):\n",
    "        vi = V[:, i]\n",
    "        Uvi = matrix_vector_multiplication(U, vi)\n",
    "        result[:, i] = Uvi\n",
    "\n",
    "    return result\n",
    "\n",
    "matrix_matrix_multiplication(U, V)\n",
    "\n",
    "\n",
    "U.dot(V)"
   ],
   "metadata": {
    "collapsed": false,
    "ExecuteTime": {
     "start_time": "2023-09-18T14:28:39.144216Z",
     "end_time": "2023-09-18T14:28:39.157136Z"
    }
   }
  },
  {
   "cell_type": "markdown",
   "source": [
    "## 4. Identity matrix and Inverse Matrices"
   ],
   "metadata": {
    "collapsed": false
   }
  },
  {
   "cell_type": "code",
   "execution_count": 20,
   "outputs": [
    {
     "data": {
      "text/plain": "array([[1., 0., 0.],\n       [0., 1., 0.],\n       [0., 0., 1.]])"
     },
     "execution_count": 20,
     "metadata": {},
     "output_type": "execute_result"
    }
   ],
   "source": [
    "# Identity matrix\n",
    "I = np.eye(3)\n",
    "I"
   ],
   "metadata": {
    "collapsed": false,
    "ExecuteTime": {
     "start_time": "2023-09-18T14:40:42.597292Z",
     "end_time": "2023-09-18T14:40:42.615687Z"
    }
   }
  },
  {
   "cell_type": "code",
   "execution_count": 21,
   "outputs": [
    {
     "data": {
      "text/plain": "array([[1. , 1. , 2. ],\n       [0. , 0.5, 1. ],\n       [0. , 2. , 1. ],\n       [2. , 1. , 0. ]])"
     },
     "execution_count": 21,
     "metadata": {},
     "output_type": "execute_result"
    }
   ],
   "source": [
    "V = np.array([\n",
    "    [1, 1, 2],\n",
    "    [0, 0.5, 1],\n",
    "    [0, 2, 1],\n",
    "    [2, 1, 0],\n",
    "])\n",
    "\n",
    "V.dot(I)"
   ],
   "metadata": {
    "collapsed": false,
    "ExecuteTime": {
     "start_time": "2023-09-18T14:41:05.803188Z",
     "end_time": "2023-09-18T14:41:05.821023Z"
    }
   }
  },
  {
   "cell_type": "code",
   "execution_count": 24,
   "outputs": [
    {
     "data": {
      "text/plain": "array([[1. , 1. , 2. ],\n       [0. , 0.5, 1. ],\n       [0. , 2. , 1. ]])"
     },
     "execution_count": 24,
     "metadata": {},
     "output_type": "execute_result"
    }
   ],
   "source": [
    "# Inverse matrix\n",
    "Vs = V[[0, 1, 2]]\n",
    "Vs"
   ],
   "metadata": {
    "collapsed": false,
    "ExecuteTime": {
     "start_time": "2023-09-18T14:43:11.876829Z",
     "end_time": "2023-09-18T14:43:11.880930Z"
    }
   }
  },
  {
   "cell_type": "code",
   "execution_count": 25,
   "outputs": [
    {
     "data": {
      "text/plain": "array([[ 1.        , -2.        ,  0.        ],\n       [ 0.        , -0.66666667,  0.66666667],\n       [ 0.        ,  1.33333333, -0.33333333]])"
     },
     "execution_count": 25,
     "metadata": {},
     "output_type": "execute_result"
    }
   ],
   "source": [
    "Vs_inv = np.linalg.inv(Vs)\n",
    "Vs_inv"
   ],
   "metadata": {
    "collapsed": false,
    "ExecuteTime": {
     "start_time": "2023-09-18T14:43:27.493085Z",
     "end_time": "2023-09-18T14:43:27.499024Z"
    }
   }
  },
  {
   "cell_type": "code",
   "execution_count": 26,
   "outputs": [
    {
     "data": {
      "text/plain": "array([[1., 0., 0.],\n       [0., 1., 0.],\n       [0., 0., 1.]])"
     },
     "execution_count": 26,
     "metadata": {},
     "output_type": "execute_result"
    }
   ],
   "source": [
    "# return identity matrix\n",
    "Vs_inv.dot(Vs)"
   ],
   "metadata": {
    "collapsed": false,
    "ExecuteTime": {
     "start_time": "2023-09-18T14:46:15.492823Z",
     "end_time": "2023-09-18T14:46:15.500751Z"
    }
   }
  },
  {
   "cell_type": "code",
   "execution_count": null,
   "outputs": [],
   "source": [],
   "metadata": {
    "collapsed": false
   }
  }
 ],
 "metadata": {
  "kernelspec": {
   "display_name": "Python 3",
   "language": "python",
   "name": "python3"
  },
  "language_info": {
   "codemirror_mode": {
    "name": "ipython",
    "version": 2
   },
   "file_extension": ".py",
   "mimetype": "text/x-python",
   "name": "python",
   "nbconvert_exporter": "python",
   "pygments_lexer": "ipython2",
   "version": "2.7.6"
  }
 },
 "nbformat": 4,
 "nbformat_minor": 0
}
